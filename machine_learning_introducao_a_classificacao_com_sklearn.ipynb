{
  "nbformat": 4,
  "nbformat_minor": 0,
  "metadata": {
    "colab": {
      "name": " machine-learning-introducao-a-classificacao-com-sklearn",
      "provenance": [],
      "authorship_tag": "ABX9TyOd+DFIyHwJxarRpT6uBkZm",
      "include_colab_link": true
    },
    "kernelspec": {
      "name": "python3",
      "display_name": "Python 3"
    },
    "language_info": {
      "name": "python"
    }
  },
  "cells": [
    {
      "cell_type": "markdown",
      "metadata": {
        "id": "view-in-github",
        "colab_type": "text"
      },
      "source": [
        "<a href=\"https://colab.research.google.com/github/Viniciusalgueiro/Alura/blob/master/machine_learning_introducao_a_classificacao_com_sklearn.ipynb\" target=\"_parent\"><img src=\"https://colab.research.google.com/assets/colab-badge.svg\" alt=\"Open In Colab\"/></a>"
      ]
    },
    {
      "cell_type": "code",
      "metadata": {
        "id": "rW4hv51UmI-U"
      },
      "source": [
        "# features (1 sim, 0 não)\n",
        "# pelo longo?\n",
        "# perna curta?\n",
        "# faz auau?\n",
        "porco1 = [0, 1, 0]\n",
        "porco2 = [0, 1, 1]\n",
        "porco3 = [1, 1, 0]\n",
        "\n",
        "cachorro1 = [0, 1, 1]\n",
        "cachorro2 = [1, 0, 1]\n",
        "cachorro3 = [1, 1, 1]\n",
        "\n",
        "# 1 => porco, 0 => cachorro\n",
        "treino_x = [porco1, porco2, porco3, cachorro1, cachorro2, cachorro3]\n",
        "treino_y = [1,1,1,0,0,0] #labels"
      ],
      "execution_count": 3,
      "outputs": []
    },
    {
      "cell_type": "code",
      "metadata": {
        "colab": {
          "base_uri": "https://localhost:8080/"
        },
        "id": "gPiJ4QVtm3J9",
        "outputId": "16c61130-9646-4418-ef16-7a5cbb63cfb1"
      },
      "source": [
        "from sklearn.svm import LinearSVC\n",
        "\n",
        "model = LinearSVC()\n",
        "model.fit(treino_x,treino_y)"
      ],
      "execution_count": 4,
      "outputs": [
        {
          "output_type": "execute_result",
          "data": {
            "text/plain": [
              "LinearSVC(C=1.0, class_weight=None, dual=True, fit_intercept=True,\n",
              "          intercept_scaling=1, loss='squared_hinge', max_iter=1000,\n",
              "          multi_class='ovr', penalty='l2', random_state=None, tol=0.0001,\n",
              "          verbose=0)"
            ]
          },
          "metadata": {},
          "execution_count": 4
        }
      ]
    },
    {
      "cell_type": "code",
      "metadata": {
        "id": "CRx2108Dnd6B"
      },
      "source": [
        "animal_misterioso = [1,1,1]\n",
        "previsoes = model.predict([animal_misterioso])"
      ],
      "execution_count": 5,
      "outputs": []
    },
    {
      "cell_type": "code",
      "metadata": {
        "id": "nyIlMDtNoG54"
      },
      "source": [
        "animal_misterioso1 = [1,1,1] \n",
        "animal_misterioso2 = [1,1,0]\n",
        "animal_misterioso3 = [0,1,1]\n",
        "animal_misterioso4 = [1,0,1]\n",
        "testes_x = [animal_misterioso1,animal_misterioso2,animal_misterioso3,animal_misterioso4]\n",
        "testes_y = [0,1,1,0]\n",
        "previsoes = model.predict(testes_x)"
      ],
      "execution_count": 9,
      "outputs": []
    },
    {
      "cell_type": "code",
      "metadata": {
        "colab": {
          "base_uri": "https://localhost:8080/"
        },
        "id": "nsA8lUSFoVwy",
        "outputId": "d9db36f2-ebf8-486b-9658-f4f5acd63ae0"
      },
      "source": [
        "\n",
        "provisoes_corretas = (previsoes == testes_y).sum()\n",
        "total = len(testes_x)\n",
        "taxa_de_acertos = (provisoes_corretas/ total)\n"
      ],
      "execution_count": 15,
      "outputs": [
        {
          "output_type": "stream",
          "name": "stdout",
          "text": [
            "Taxa de acerto 75.00 %\n"
          ]
        }
      ]
    },
    {
      "cell_type": "code",
      "metadata": {
        "colab": {
          "base_uri": "https://localhost:8080/"
        },
        "id": "bJPQiEEqrrfP",
        "outputId": "c2cb7edb-c1c0-400e-da7b-848d5dc3f6a2"
      },
      "source": [
        "from sklearn.metrics import accuracy_score\n",
        "\n",
        "taxa_de_acertos2 = accuracy_score(testes_y, previsoes)\n",
        "print(\"Taxa de acerto %.2f\" % (taxa_de_acertos2*100 ),\"%\")"
      ],
      "execution_count": 16,
      "outputs": [
        {
          "output_type": "stream",
          "name": "stdout",
          "text": [
            "Taxa de acerto 75.00 %\n"
          ]
        }
      ]
    },
    {
      "cell_type": "code",
      "metadata": {
        "id": "rvouPdmtrrb2"
      },
      "source": [
        ""
      ],
      "execution_count": 11,
      "outputs": []
    }
  ]
}